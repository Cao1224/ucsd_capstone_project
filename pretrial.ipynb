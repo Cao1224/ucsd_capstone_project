{
 "cells": [
  {
   "cell_type": "markdown",
   "metadata": {},
   "source": [
    "## **UC San Diego Data Science Casptone Project [Winter 2025]**\n",
    "\n",
    "#### **Team Members**\n",
    "- Catherine Back\n",
    "- Yuancheng (Kaleo) Cao\n",
    "- Aj Falak\n",
    "- Kavya Sriram"
   ]
  },
  {
   "cell_type": "markdown",
   "metadata": {},
   "source": [
    "### **Introduction**"
   ]
  },
  {
   "cell_type": "markdown",
   "metadata": {},
   "source": [
    "### **Data Cleaning**"
   ]
  },
  {
   "cell_type": "markdown",
   "metadata": {},
   "source": [
    "#### Get and Load Dataset"
   ]
  },
  {
   "cell_type": "code",
   "execution_count": 1,
   "metadata": {},
   "outputs": [],
   "source": [
    "# Imports\n",
    "import sys\n",
    "import zipfile\n",
    "\n",
    "%matplotlib inline\n",
    "import matplotlib.pyplot as plt\n",
    "import numpy as np\n",
    "from IPython.display import Markdown, display\n",
    "import pandas as pd\n",
    "import seaborn as sns"
   ]
  },
  {
   "cell_type": "code",
   "execution_count": 2,
   "metadata": {},
   "outputs": [
    {
     "data": {
      "text/html": [
       "<div>\n",
       "<style scoped>\n",
       "    .dataframe tbody tr th:only-of-type {\n",
       "        vertical-align: middle;\n",
       "    }\n",
       "\n",
       "    .dataframe tbody tr th {\n",
       "        vertical-align: top;\n",
       "    }\n",
       "\n",
       "    .dataframe thead th {\n",
       "        text-align: right;\n",
       "    }\n",
       "</style>\n",
       "<table border=\"1\" class=\"dataframe\">\n",
       "  <thead>\n",
       "    <tr style=\"text-align: right;\">\n",
       "      <th></th>\n",
       "      <th>Internal_Case_ID</th>\n",
       "      <th>Gender</th>\n",
       "      <th>Race</th>\n",
       "      <th>Ethnicity</th>\n",
       "      <th>Age_at_Crime</th>\n",
       "      <th>Age_at_Arrest</th>\n",
       "      <th>Court_Name</th>\n",
       "      <th>Court_ORI</th>\n",
       "      <th>County_Name</th>\n",
       "      <th>District</th>\n",
       "      <th>...</th>\n",
       "      <th>prior_misd_cnt</th>\n",
       "      <th>pend_vfo</th>\n",
       "      <th>pend_nonvfo</th>\n",
       "      <th>pend_misd</th>\n",
       "      <th>supervision</th>\n",
       "      <th>rearrest</th>\n",
       "      <th>rearrest_date</th>\n",
       "      <th>rearrest_firearm</th>\n",
       "      <th>rearrest_date_firearm</th>\n",
       "      <th>arr_cycle_id</th>\n",
       "    </tr>\n",
       "  </thead>\n",
       "  <tbody>\n",
       "    <tr>\n",
       "      <th>0</th>\n",
       "      <td>0x7D5A7A079A4D37CF1E45EC4</td>\n",
       "      <td>Male</td>\n",
       "      <td>Black</td>\n",
       "      <td>Non Hispanic</td>\n",
       "      <td>24</td>\n",
       "      <td>24</td>\n",
       "      <td>Kings Criminal Court</td>\n",
       "      <td>NY023033J</td>\n",
       "      <td>Kings</td>\n",
       "      <td>District 2</td>\n",
       "      <td>...</td>\n",
       "      <td>0.0</td>\n",
       "      <td>0.0</td>\n",
       "      <td>0.0</td>\n",
       "      <td>0.0</td>\n",
       "      <td>0.0</td>\n",
       "      <td>No Arrest</td>\n",
       "      <td>NaN</td>\n",
       "      <td>0.0</td>\n",
       "      <td>NaN</td>\n",
       "      <td>1441855.0</td>\n",
       "    </tr>\n",
       "    <tr>\n",
       "      <th>1</th>\n",
       "      <td>0x65DA7AE4C1F68EAD828F68B</td>\n",
       "      <td>Male</td>\n",
       "      <td>White</td>\n",
       "      <td>Hispanic</td>\n",
       "      <td>51</td>\n",
       "      <td>51</td>\n",
       "      <td>Queens Criminal Court</td>\n",
       "      <td>NY040033J</td>\n",
       "      <td>Queens</td>\n",
       "      <td>District 11</td>\n",
       "      <td>...</td>\n",
       "      <td>0.0</td>\n",
       "      <td>0.0</td>\n",
       "      <td>0.0</td>\n",
       "      <td>0.0</td>\n",
       "      <td>0.0</td>\n",
       "      <td>No Arrest</td>\n",
       "      <td>NaN</td>\n",
       "      <td>0.0</td>\n",
       "      <td>NaN</td>\n",
       "      <td>1135968.0</td>\n",
       "    </tr>\n",
       "    <tr>\n",
       "      <th>2</th>\n",
       "      <td>0x74775A9DB79BE9D2562A37B</td>\n",
       "      <td>Male</td>\n",
       "      <td>White</td>\n",
       "      <td>Non Hispanic</td>\n",
       "      <td>30</td>\n",
       "      <td>30</td>\n",
       "      <td>Schoharie County Court (M-B)</td>\n",
       "      <td>NY047013J</td>\n",
       "      <td>Schoharie</td>\n",
       "      <td>District 3</td>\n",
       "      <td>...</td>\n",
       "      <td>0.0</td>\n",
       "      <td>0.0</td>\n",
       "      <td>0.0</td>\n",
       "      <td>0.0</td>\n",
       "      <td>0.0</td>\n",
       "      <td>No Arrest</td>\n",
       "      <td>NaN</td>\n",
       "      <td>0.0</td>\n",
       "      <td>NaN</td>\n",
       "      <td>190950.0</td>\n",
       "    </tr>\n",
       "    <tr>\n",
       "      <th>3</th>\n",
       "      <td>0xE05C798F936677645105A30</td>\n",
       "      <td>Male</td>\n",
       "      <td>Unknown</td>\n",
       "      <td>Unknown</td>\n",
       "      <td>24</td>\n",
       "      <td>24</td>\n",
       "      <td>Nassau District Court</td>\n",
       "      <td>NY029013J</td>\n",
       "      <td>Nassau</td>\n",
       "      <td>District 10N</td>\n",
       "      <td>...</td>\n",
       "      <td>NaN</td>\n",
       "      <td>NaN</td>\n",
       "      <td>NaN</td>\n",
       "      <td>NaN</td>\n",
       "      <td>NaN</td>\n",
       "      <td>NaN</td>\n",
       "      <td>NaN</td>\n",
       "      <td>NaN</td>\n",
       "      <td>NaN</td>\n",
       "      <td>NaN</td>\n",
       "    </tr>\n",
       "    <tr>\n",
       "      <th>4</th>\n",
       "      <td>0x44403907DC0611F6DD9BE0F</td>\n",
       "      <td>Male</td>\n",
       "      <td>White</td>\n",
       "      <td>Hispanic</td>\n",
       "      <td>29</td>\n",
       "      <td>29</td>\n",
       "      <td>New York Criminal Court</td>\n",
       "      <td>NY030033J</td>\n",
       "      <td>New York</td>\n",
       "      <td>District 1</td>\n",
       "      <td>...</td>\n",
       "      <td>1.0</td>\n",
       "      <td>0.0</td>\n",
       "      <td>0.0</td>\n",
       "      <td>0.0</td>\n",
       "      <td>0.0</td>\n",
       "      <td>No Arrest</td>\n",
       "      <td>NaN</td>\n",
       "      <td>0.0</td>\n",
       "      <td>NaN</td>\n",
       "      <td>905753.0</td>\n",
       "    </tr>\n",
       "    <tr>\n",
       "      <th>...</th>\n",
       "      <td>...</td>\n",
       "      <td>...</td>\n",
       "      <td>...</td>\n",
       "      <td>...</td>\n",
       "      <td>...</td>\n",
       "      <td>...</td>\n",
       "      <td>...</td>\n",
       "      <td>...</td>\n",
       "      <td>...</td>\n",
       "      <td>...</td>\n",
       "      <td>...</td>\n",
       "      <td>...</td>\n",
       "      <td>...</td>\n",
       "      <td>...</td>\n",
       "      <td>...</td>\n",
       "      <td>...</td>\n",
       "      <td>...</td>\n",
       "      <td>...</td>\n",
       "      <td>...</td>\n",
       "      <td>...</td>\n",
       "      <td>...</td>\n",
       "    </tr>\n",
       "    <tr>\n",
       "      <th>285387</th>\n",
       "      <td>0x2BBED7AB218CF5642D07062</td>\n",
       "      <td>Male</td>\n",
       "      <td>Black</td>\n",
       "      <td>Non Hispanic</td>\n",
       "      <td>27</td>\n",
       "      <td>27</td>\n",
       "      <td>New York Criminal Court</td>\n",
       "      <td>NY030033J</td>\n",
       "      <td>New York</td>\n",
       "      <td>District 1</td>\n",
       "      <td>...</td>\n",
       "      <td>1.0</td>\n",
       "      <td>0.0</td>\n",
       "      <td>0.0</td>\n",
       "      <td>0.0</td>\n",
       "      <td>0.0</td>\n",
       "      <td>No Arrest</td>\n",
       "      <td>NaN</td>\n",
       "      <td>0.0</td>\n",
       "      <td>NaN</td>\n",
       "      <td>1448385.0</td>\n",
       "    </tr>\n",
       "    <tr>\n",
       "      <th>285388</th>\n",
       "      <td>0xB6A2649C599FC43E6FDE84A</td>\n",
       "      <td>Male</td>\n",
       "      <td>Other</td>\n",
       "      <td>Unknown</td>\n",
       "      <td>27</td>\n",
       "      <td>27</td>\n",
       "      <td>Nassau District Court</td>\n",
       "      <td>NY029013J</td>\n",
       "      <td>Nassau</td>\n",
       "      <td>District 10N</td>\n",
       "      <td>...</td>\n",
       "      <td>0.0</td>\n",
       "      <td>0.0</td>\n",
       "      <td>0.0</td>\n",
       "      <td>0.0</td>\n",
       "      <td>0.0</td>\n",
       "      <td>Misdemeanor</td>\n",
       "      <td>1/1/2024</td>\n",
       "      <td>0.0</td>\n",
       "      <td>NaN</td>\n",
       "      <td>1246052.0</td>\n",
       "    </tr>\n",
       "    <tr>\n",
       "      <th>285389</th>\n",
       "      <td>0xB4212660AC6DEC0827CDD85</td>\n",
       "      <td>Male</td>\n",
       "      <td>Unknown</td>\n",
       "      <td>Unknown</td>\n",
       "      <td>25</td>\n",
       "      <td>25</td>\n",
       "      <td>Nassau District Court</td>\n",
       "      <td>NY029013J</td>\n",
       "      <td>Nassau</td>\n",
       "      <td>District 10N</td>\n",
       "      <td>...</td>\n",
       "      <td>NaN</td>\n",
       "      <td>NaN</td>\n",
       "      <td>NaN</td>\n",
       "      <td>NaN</td>\n",
       "      <td>NaN</td>\n",
       "      <td>NaN</td>\n",
       "      <td>NaN</td>\n",
       "      <td>NaN</td>\n",
       "      <td>NaN</td>\n",
       "      <td>NaN</td>\n",
       "    </tr>\n",
       "    <tr>\n",
       "      <th>285390</th>\n",
       "      <td>0x1B30669744902CD3498DF0C</td>\n",
       "      <td>Male</td>\n",
       "      <td>Black</td>\n",
       "      <td>Non Hispanic</td>\n",
       "      <td>34</td>\n",
       "      <td>34</td>\n",
       "      <td>Schenectady City Court</td>\n",
       "      <td>NY046011J</td>\n",
       "      <td>Schenectady</td>\n",
       "      <td>District 4</td>\n",
       "      <td>...</td>\n",
       "      <td>0.0</td>\n",
       "      <td>0.0</td>\n",
       "      <td>0.0</td>\n",
       "      <td>0.0</td>\n",
       "      <td>1.0</td>\n",
       "      <td>Non-violent felony</td>\n",
       "      <td>10/1/2023</td>\n",
       "      <td>0.0</td>\n",
       "      <td>NaN</td>\n",
       "      <td>1243671.0</td>\n",
       "    </tr>\n",
       "    <tr>\n",
       "      <th>285391</th>\n",
       "      <td>0x7A8B018DEA9E023826DEBF4</td>\n",
       "      <td>Male</td>\n",
       "      <td>Unknown</td>\n",
       "      <td>Unknown</td>\n",
       "      <td>24</td>\n",
       "      <td>24</td>\n",
       "      <td>Albany City Criminal Court</td>\n",
       "      <td>NY001011J</td>\n",
       "      <td>Albany</td>\n",
       "      <td>District 3</td>\n",
       "      <td>...</td>\n",
       "      <td>NaN</td>\n",
       "      <td>NaN</td>\n",
       "      <td>NaN</td>\n",
       "      <td>NaN</td>\n",
       "      <td>NaN</td>\n",
       "      <td>NaN</td>\n",
       "      <td>NaN</td>\n",
       "      <td>NaN</td>\n",
       "      <td>NaN</td>\n",
       "      <td>NaN</td>\n",
       "    </tr>\n",
       "  </tbody>\n",
       "</table>\n",
       "<p>285392 rows × 112 columns</p>\n",
       "</div>"
      ],
      "text/plain": [
       "                 Internal_Case_ID Gender     Race     Ethnicity  Age_at_Crime  \\\n",
       "0       0x7D5A7A079A4D37CF1E45EC4   Male    Black  Non Hispanic            24   \n",
       "1       0x65DA7AE4C1F68EAD828F68B   Male    White      Hispanic            51   \n",
       "2       0x74775A9DB79BE9D2562A37B   Male    White  Non Hispanic            30   \n",
       "3       0xE05C798F936677645105A30   Male  Unknown       Unknown            24   \n",
       "4       0x44403907DC0611F6DD9BE0F   Male    White      Hispanic            29   \n",
       "...                           ...    ...      ...           ...           ...   \n",
       "285387  0x2BBED7AB218CF5642D07062   Male    Black  Non Hispanic            27   \n",
       "285388  0xB6A2649C599FC43E6FDE84A   Male    Other       Unknown            27   \n",
       "285389  0xB4212660AC6DEC0827CDD85   Male  Unknown       Unknown            25   \n",
       "285390  0x1B30669744902CD3498DF0C   Male    Black  Non Hispanic            34   \n",
       "285391  0x7A8B018DEA9E023826DEBF4   Male  Unknown       Unknown            24   \n",
       "\n",
       "        Age_at_Arrest                    Court_Name  Court_ORI  County_Name  \\\n",
       "0                  24          Kings Criminal Court  NY023033J        Kings   \n",
       "1                  51         Queens Criminal Court  NY040033J       Queens   \n",
       "2                  30  Schoharie County Court (M-B)  NY047013J    Schoharie   \n",
       "3                  24         Nassau District Court  NY029013J       Nassau   \n",
       "4                  29       New York Criminal Court  NY030033J     New York   \n",
       "...               ...                           ...        ...          ...   \n",
       "285387             27       New York Criminal Court  NY030033J     New York   \n",
       "285388             27         Nassau District Court  NY029013J       Nassau   \n",
       "285389             25         Nassau District Court  NY029013J       Nassau   \n",
       "285390             34        Schenectady City Court  NY046011J  Schenectady   \n",
       "285391             24    Albany City Criminal Court  NY001011J       Albany   \n",
       "\n",
       "            District  ... prior_misd_cnt pend_vfo pend_nonvfo pend_misd  \\\n",
       "0         District 2  ...            0.0      0.0         0.0       0.0   \n",
       "1        District 11  ...            0.0      0.0         0.0       0.0   \n",
       "2         District 3  ...            0.0      0.0         0.0       0.0   \n",
       "3       District 10N  ...            NaN      NaN         NaN       NaN   \n",
       "4         District 1  ...            1.0      0.0         0.0       0.0   \n",
       "...              ...  ...            ...      ...         ...       ...   \n",
       "285387    District 1  ...            1.0      0.0         0.0       0.0   \n",
       "285388  District 10N  ...            0.0      0.0         0.0       0.0   \n",
       "285389  District 10N  ...            NaN      NaN         NaN       NaN   \n",
       "285390    District 4  ...            0.0      0.0         0.0       0.0   \n",
       "285391    District 3  ...            NaN      NaN         NaN       NaN   \n",
       "\n",
       "        supervision            rearrest  rearrest_date rearrest_firearm  \\\n",
       "0               0.0           No Arrest            NaN              0.0   \n",
       "1               0.0           No Arrest            NaN              0.0   \n",
       "2               0.0           No Arrest            NaN              0.0   \n",
       "3               NaN                 NaN            NaN              NaN   \n",
       "4               0.0           No Arrest            NaN              0.0   \n",
       "...             ...                 ...            ...              ...   \n",
       "285387          0.0           No Arrest            NaN              0.0   \n",
       "285388          0.0         Misdemeanor       1/1/2024              0.0   \n",
       "285389          NaN                 NaN            NaN              NaN   \n",
       "285390          1.0  Non-violent felony      10/1/2023              0.0   \n",
       "285391          NaN                 NaN            NaN              NaN   \n",
       "\n",
       "       rearrest_date_firearm arr_cycle_id  \n",
       "0                        NaN    1441855.0  \n",
       "1                        NaN    1135968.0  \n",
       "2                        NaN     190950.0  \n",
       "3                        NaN          NaN  \n",
       "4                        NaN     905753.0  \n",
       "...                      ...          ...  \n",
       "285387                   NaN    1448385.0  \n",
       "285388                   NaN    1246052.0  \n",
       "285389                   NaN          NaN  \n",
       "285390                   NaN    1243671.0  \n",
       "285391                   NaN          NaN  \n",
       "\n",
       "[285392 rows x 112 columns]"
      ]
     },
     "execution_count": 2,
     "metadata": {},
     "output_type": "execute_result"
    }
   ],
   "source": [
    "import zipfile\n",
    "\n",
    "zip_file_path = 'pretrial_release_data2023.zip'\n",
    "\n",
    "with zipfile.ZipFile(zip_file_path, 'r') as zip_ref:\n",
    "    with zip_ref.open('pretrial_release_data2023.csv') as csv_file:\n",
    "        pretrial_df = pd.read_csv(csv_file)\n",
    "\n",
    "pretrial_df"
   ]
  },
  {
   "cell_type": "code",
   "execution_count": 3,
   "metadata": {},
   "outputs": [
    {
     "data": {
      "text/plain": [
       "52"
      ]
     },
     "execution_count": 3,
     "metadata": {},
     "output_type": "execute_result"
    }
   ],
   "source": [
    "nan_percentages = pretrial_df.isna().mean() * 100\n",
    "sorted_nan_percentages = nan_percentages.sort_values(ascending=False)\n",
    "len(sorted_nan_percentages[sorted_nan_percentages > 1])"
   ]
  },
  {
   "cell_type": "code",
   "execution_count": 4,
   "metadata": {},
   "outputs": [
    {
     "data": {
      "text/plain": [
       "['First_Unsecured_App_Bond',\n",
       " 'Partially_Secured_App_Bond_Perc',\n",
       " 'First_Partially_Secured_App_Bond',\n",
       " 'First_Unsecured_Surety_Bond',\n",
       " 'First_Secured_App_Bond',\n",
       " 'rearrest_date_firearm',\n",
       " 'First_Secured_Surety_Bond',\n",
       " 'First_Bail_Set_Credit',\n",
       " 'Top_Arraign_Attempt_Indicator',\n",
       " 'Days_Arraign_Remand_First_Released',\n",
       " 'Days_Arraign_Bail_Set_to_First_Posted',\n",
       " 'Bail_Made_Indicator',\n",
       " 'Num_of_Stayed_WO',\n",
       " 'First_Bench_Warrant_Date',\n",
       " 'Non_Stayed_WO',\n",
       " 'First_Insurance_Company_Bail_Bond',\n",
       " 'Partially_Secured_Surety_Bond_Perc',\n",
       " 'First_Partially_Secured_Surety_Bond',\n",
       " 'Days_Arraign_Bail_Set_to_First_Release',\n",
       " 'UCMSLiveDate',\n",
       " 'rearrest_date',\n",
       " 'First_Bail_Set_Cash',\n",
       " 'Most_Severe_Sentence',\n",
       " 'Top_Conviction_Law',\n",
       " 'Top_Conviction_Article_Section',\n",
       " 'Top_Charge_at_Conviction',\n",
       " 'Top_Charge_Severity_at_Conviction',\n",
       " 'Top_Charge_Weight_at_Conviction',\n",
       " 'Order_of_Protection',\n",
       " 'Days_Arraign_to_Dispo',\n",
       " 'Disposition_Date',\n",
       " 'arr_cycle_id',\n",
       " 'rearrest',\n",
       " 'prior_vfo_cnt',\n",
       " 'prior_nonvfo_cnt',\n",
       " 'pend_vfo',\n",
       " 'prior_misd_cnt',\n",
       " 'pend_nonvfo',\n",
       " 'rearrest_firearm',\n",
       " 'pend_misd',\n",
       " 'supervision',\n",
       " 'Arrest_Type',\n",
       " 'Representation_at_Securing_Order',\n",
       " 'Arrest Year',\n",
       " 'Representation_Type',\n",
       " 'Arrest_Month',\n",
       " 'Top_Arrest_Law',\n",
       " 'Top_Arrest_Article_Section',\n",
       " 'Top_Charge_Severity_at_Arrest',\n",
       " 'Top_Charge_Weight_at_Arrest',\n",
       " 'Top_Charge_at_Arrest',\n",
       " 'Def_Attended_Sched_Pretrials']"
      ]
     },
     "execution_count": 4,
     "metadata": {},
     "output_type": "execute_result"
    }
   ],
   "source": [
    "sorted_nan_percentages\n",
    "col_list = sorted_nan_percentages[sorted_nan_percentages > 1].index.tolist()\n",
    "col_list"
   ]
  },
  {
   "cell_type": "code",
   "execution_count": 5,
   "metadata": {},
   "outputs": [],
   "source": [
    "pretrial_df = pretrial_df[pretrial_df['rearrest'].notna()]"
   ]
  },
  {
   "cell_type": "code",
   "execution_count": 6,
   "metadata": {},
   "outputs": [
    {
     "data": {
      "text/plain": [
       "rearrest\n",
       "No Arrest             205084\n",
       "Misdemeanor            19842\n",
       "Non-violent felony     14813\n",
       "Violent felony          4982\n",
       "Name: count, dtype: int64"
      ]
     },
     "execution_count": 6,
     "metadata": {},
     "output_type": "execute_result"
    }
   ],
   "source": [
    "pretrial_df['rearrest'].value_counts()"
   ]
  },
  {
   "cell_type": "code",
   "execution_count": 7,
   "metadata": {},
   "outputs": [
    {
     "name": "stderr",
     "output_type": "stream",
     "text": [
      "/var/folders/zl/dmpncrf92wg19vdg6q96y0n40000gn/T/ipykernel_34026/1792770735.py:1: SettingWithCopyWarning: \n",
      "A value is trying to be set on a copy of a slice from a DataFrame.\n",
      "Try using .loc[row_indexer,col_indexer] = value instead\n",
      "\n",
      "See the caveats in the documentation: https://pandas.pydata.org/pandas-docs/stable/user_guide/indexing.html#returning-a-view-versus-a-copy\n",
      "  pretrial_df.loc[:, 'reoffend'] = pretrial_df['rearrest'].apply(lambda x: 0 if x == 'No Arrest' else 1)\n"
     ]
    }
   ],
   "source": [
    "pretrial_df.loc[:, 'reoffend'] = pretrial_df['rearrest'].apply(lambda x: 0 if x == 'No Arrest' else 1)"
   ]
  },
  {
   "cell_type": "code",
   "execution_count": 8,
   "metadata": {},
   "outputs": [],
   "source": [
    "pretrial_df = pretrial_df.copy()\n",
    "pretrial_df.loc[:, 'First_Arraign_Date'] = pd.to_datetime(pretrial_df['First_Arraign_Date'])"
   ]
  },
  {
   "cell_type": "code",
   "execution_count": 9,
   "metadata": {},
   "outputs": [
    {
     "data": {
      "text/plain": [
       "['First_Arraign_Date',\n",
       " 'First_Bench_Warrant_Date',\n",
       " 'Disposition_Date',\n",
       " 'UCMSLiveDate',\n",
       " 'rearrest_date',\n",
       " 'rearrest_date_firearm']"
      ]
     },
     "execution_count": 9,
     "metadata": {},
     "output_type": "execute_result"
    }
   ],
   "source": [
    "date_columns = [col for col in pretrial_df.columns if 'date' in col.lower()]\n",
    "date_columns"
   ]
  },
  {
   "cell_type": "code",
   "execution_count": 10,
   "metadata": {},
   "outputs": [],
   "source": [
    "pretrial_df.loc[:, 'First_Arraign_Date'] = pd.to_datetime(pretrial_df['First_Arraign_Date'])"
   ]
  },
  {
   "cell_type": "markdown",
   "metadata": {},
   "source": [
    "### Checking Unique Values in Each Column for Typos/Unique Missing Values/Errors etc."
   ]
  },
  {
   "cell_type": "code",
   "execution_count": null,
   "metadata": {},
   "outputs": [
    {
     "data": {
      "text/plain": [
       "array([None], dtype=object)"
      ]
     },
     "execution_count": 19,
     "metadata": {},
     "output_type": "execute_result"
    }
   ],
   "source": [
    "# Special Notes for Columns\n",
    "\n",
    "# pretrial_df['Region'].unique() #What is NYC vs 0NYC/ONYC\n",
    "# pretrial_df['Bail_Made_Indicator'].unique() #What is \"X\"?\n",
    "\n",
    "#Had codes and dates\n",
    "# pretrial_df['Top_Arrest_Article_Section'].unique() #Needs further looking\n",
    "# pretrial_df['Top_Conviction_Article_Section'].sort_values().unique() #Needs futher looking\n",
    "# pretrial_df['arr_cycle_id'].sort_values().unique() # has ... as value\n",
    "\n"
   ]
  },
  {
   "cell_type": "code",
   "execution_count": 12,
   "metadata": {},
   "outputs": [],
   "source": [
    "#Converting Date Types\n",
    "pretrial_df['First_Bench_Warrant_Date'] = pd.to_datetime(pretrial_df['First_Bench_Warrant_Date'], errors='coerce')\n",
    "pretrial_df['Disposition_Date'] = pd.to_datetime(pretrial_df['Disposition_Date'], errors='coerce')\n",
    "pretrial_df['UCMSLiveDate'] = pd.to_datetime(pretrial_df['UCMSLiveDate'], errors='coerce')\n",
    "pretrial_df['rearrest_date_firearm'] = pd.to_datetime(pretrial_df['rearrest_date_firearm'], errors='coerce')\n",
    "pretrial_df['rearrest_date'] = pd.to_datetime(pretrial_df['rearrest_date'], errors='coerce')\n"
   ]
  },
  {
   "cell_type": "code",
   "execution_count": 13,
   "metadata": {},
   "outputs": [],
   "source": [
    "# Renaming Columns for Consistency\n",
    "pretrial_df['Offense Year'].sort_values().unique()\n",
    "pretrial_df = pretrial_df.rename(columns={\"Offense Year\": \"Offense_Year\"})\n",
    "pretrial_df['Offense_Year'] = pretrial_df['Offense_Year'].fillna(0).astype(int)\n",
    "\n",
    "pretrial_df['Arrest Year'].sort_values().unique()\n",
    "pretrial_df = pretrial_df.rename(columns={\"Arrest Year\": \"Arrest_Year\"})\n",
    "pretrial_df['Arrest_Year'] = pretrial_df['Arrest_Year'].fillna(0).astype(int)\n",
    "\n",
    "pretrial_df = pretrial_df.rename(columns={\"Arraign Charge Category\": \"Arraign_Charge_Category\"})"
   ]
  },
  {
   "cell_type": "code",
   "execution_count": 14,
   "metadata": {},
   "outputs": [],
   "source": [
    "#Converting Types \n",
    "pretrial_df['App_Count_Arraign_to_Dispo_Released'] = pretrial_df['App_Count_Arraign_to_Dispo_Released'].astype(int)\n",
    "pretrial_df['App_Count_Arraign_to_Dispo_Detained'] = pretrial_df['App_Count_Arraign_to_Dispo_Detained'].astype(int)\n",
    "pretrial_df['App_Count_Arraign_to_Dispo_Total'] = pretrial_df['App_Count_Arraign_to_Dispo_Total'].astype(int)\n",
    "pretrial_df['Def_Attended_Sched_Pretrials'] = pretrial_df['Def_Attended_Sched_Pretrials'].fillna(0).astype(int)\n",
    "pretrial_df['Non_Stayed_WO'] = pretrial_df['Non_Stayed_WO'].fillna(0).astype(int)\n",
    "pretrial_df['Num_of_Stayed_WO'] = pretrial_df['Num_of_Stayed_WO'].fillna(0).astype(int)\n",
    "pretrial_df['Days_Arraign_Remand_First_Released'] = pretrial_df['Days_Arraign_Remand_First_Released'].fillna(0).astype(int)\n",
    "pretrial_df['Days_Arraign_Bail_Set_to_First_Posted'] = pretrial_df['Days_Arraign_Bail_Set_to_First_Posted'].fillna(0).astype(int)\n",
    "pretrial_df['Days_Arraign_Bail_Set_to_First_Release'] = pretrial_df['Days_Arraign_Bail_Set_to_First_Release'].fillna(0).astype(int)\n",
    "pretrial_df['Days_Arraign_to_Dispo'] = pretrial_df['Days_Arraign_to_Dispo'].fillna(0).astype(int)\n",
    "pretrial_df['prior_vfo_cnt'] = pretrial_df['prior_vfo_cnt'].astype(int)\n",
    "pretrial_df['prior_nonvfo_cnt'] = pretrial_df['prior_nonvfo_cnt'].astype(int)\n",
    "pretrial_df['prior_misd_cnt'] = pretrial_df['prior_misd_cnt'].astype(int)\n",
    "pretrial_df['pend_vfo'] = pretrial_df['pend_vfo'].astype(int)\n",
    "pretrial_df['pend_nonvfo'] = pretrial_df['pend_nonvfo'].astype(int)\n",
    "pretrial_df['pend_misd'] = pretrial_df['pend_misd'].astype(int)\n",
    "pretrial_df['supervision'] = pretrial_df['supervision'].astype(int)\n",
    "pretrial_df['rearrest_firearm'] = pretrial_df['rearrest_firearm'].astype(int)"
   ]
  },
  {
   "cell_type": "code",
   "execution_count": null,
   "metadata": {},
   "outputs": [],
   "source": [
    "#Replacing Unique NaN values with NaN\n",
    "pretrial_df['Top_Severity_at_Arraign'] = pretrial_df['Top_Severity_at_Arraign'].replace(\" \", np.nan)\n",
    "pretrial_df['Disposition_Type'] = pretrial_df['Disposition_Type'].replace(\" \", np.nan)\n",
    "pretrial_df['Disposition_Detail'] = pretrial_df['Disposition_Detail'].replace(\" \", np.nan)\n",
    "pretrial_df['Dismissal_Reason'] = pretrial_df['Dismissal_Reason'].replace(\" \", np.nan)\n",
    "pretrial_df['Top_Conviction_Attempt_Indicator'] = pretrial_df['Top_Conviction_Attempt_Indicator'].replace(\" \", np.nan)"
   ]
  },
  {
   "cell_type": "code",
   "execution_count": null,
   "metadata": {},
   "outputs": [],
   "source": [
    "#Drop Columns with 90% NaN Values\n",
    "print(pretrial_df.shape)\n",
    "pretrial_df.dropna(axis=1, thresh=0.9 * len(pretrial_df), inplace=True)\n",
    "print(pretrial_df.shape)"
   ]
  },
  {
   "cell_type": "markdown",
   "metadata": {},
   "source": [
    "### **Exploratory Data Analysis (EDA)**"
   ]
  },
  {
   "cell_type": "markdown",
   "metadata": {},
   "source": [
    "#### Data Understanding"
   ]
  },
  {
   "cell_type": "code",
   "execution_count": null,
   "metadata": {},
   "outputs": [],
   "source": [
    "summary_stats = pretrial_df.describe(include='all')\n",
    "summary_stats"
   ]
  },
  {
   "cell_type": "code",
   "execution_count": null,
   "metadata": {},
   "outputs": [],
   "source": [
    "missing_values = pretrial_df.isnull().sum().to_dict()\n",
    "missing_values"
   ]
  },
  {
   "cell_type": "markdown",
   "metadata": {},
   "source": [
    "1. Several columns have few missing data, meaning they are mostly complete but still have some missing values that need attention. {`Offense_Month`: 1653, `Arrest_Month`: 6501, `Top_Arrest_Article_Section`: 5524, `Top_Charge_at_Arrest`: 5524, `Top_Charge_Severity_at_Arrest`: 5524, `Top_Charge_Weight_at_Arrest`: 5524, `Top_Arraign_Law`: 1501, `Top_Arraign_Article_Section`: 1501, `Top_Charge_at_Arraign`: 1501,  `Top_Charge_Weight_at_Arraign`: 1501, `Representation_Type`: 2811}\n",
    "2. Several columns with significant missing values, which is concerning because these columns likely contain important information related to the case outcomes, bail conditions, or sentencing details. {`First_Bail_Set_Cash`: 200656, `First_Bench_Warrant_Date`: 218556, `Days_Arraign_Remand_First_Released`: 236156}\n",
    "3. Some columns have very little data, with over 90% of the values missing. {`First_Unsecured_App_Bond`, `Partially_Secured_App_Bond_Perc`,`First_Partially_Secured_App_Bond`,`First_Unsecured_Surety_Bond`,`First_Secured_App_Bond`, `rearrest_date_firearm`, `First_Secured_Surety_Bond`, `First_Bail_Set_Credit`, `Top_Arraign_Attempt_Indicator`, `Days_Arraign_Remand_First_Released`, `Days_Arraign_Bail_Set_to_First_Posted`, `Bail_Made_Indicator`, `Num_of_Stayed_WO`}\n"
   ]
  },
  {
   "cell_type": "code",
   "execution_count": null,
   "metadata": {},
   "outputs": [],
   "source": []
  },
  {
   "cell_type": "markdown",
   "metadata": {},
   "source": [
    "#### Data Visualization"
   ]
  },
  {
   "cell_type": "code",
   "execution_count": 18,
   "metadata": {},
   "outputs": [],
   "source": [
    "demographics = ['Race', 'Ethnicity', 'Gender']"
   ]
  },
  {
   "cell_type": "code",
   "execution_count": null,
   "metadata": {},
   "outputs": [],
   "source": [
    "for demo in demographics:\n",
    "    plt.figure(figsize=(10, 6))\n",
    "    sns.countplot(x=demo, hue='reoffend', data=pretrial_df, palette='Set2')\n",
    "    plt.title(f'Demographic Breakdown by Reoffending Status: {demo.capitalize()}')\n",
    "    plt.xlabel(demo.capitalize())\n",
    "    plt.ylabel('Count')\n",
    "    plt.legend(title='Reoffended', labels=['No', 'Yes'])\n",
    "    plt.xticks(rotation=45)\n",
    "    plt.tight_layout()\n",
    "    plt.show()\n"
   ]
  },
  {
   "cell_type": "code",
   "execution_count": null,
   "metadata": {},
   "outputs": [],
   "source": [
    "pretrial_df['Days_Arraign_to_Dispo'].sort_values()"
   ]
  },
  {
   "cell_type": "code",
   "execution_count": null,
   "metadata": {},
   "outputs": [],
   "source": [
    "pretrial_df['First_Arraign_Date'] = pd.to_datetime(pretrial_df['First_Arraign_Date'])\n",
    "arrest_trend = pretrial_df.groupby(['First_Arraign_Date', 'Top_Arraign_Law']).size().reset_index(name='count')\n",
    "sns.lineplot(data=arrest_trend, x='First_Arraign_Date', y='count', hue='Top_Arraign_Law', marker='o', palette='tab10')\n",
    "plt.title('Top Arraign Law Over Time')\n",
    "plt.xlabel('Time (Year-Month)')\n",
    "plt.ylabel('Number of Arrests')\n",
    "plt.xticks(rotation=45)\n",
    "plt.legend(title='Top Arraign Law', bbox_to_anchor=(1.05, 1), loc='upper left')\n",
    "plt.tight_layout()\n",
    "plt.show()\n"
   ]
  },
  {
   "cell_type": "markdown",
   "metadata": {},
   "source": []
  },
  {
   "cell_type": "code",
   "execution_count": null,
   "metadata": {},
   "outputs": [],
   "source": [
    "sum(pretrial_df['Age_at_Arrest'] != pretrial_df['Age_at_Crime'])"
   ]
  },
  {
   "cell_type": "code",
   "execution_count": null,
   "metadata": {},
   "outputs": [],
   "source": [
    "# pretrial_df['Age_at_Arrest'].max() # max is 95\n",
    "bins = [0, 20, 30, 40, 50, 60, 70, 80, 90, 100]\n",
    "counts, bin_edges = np.histogram(pretrial_df['Age_at_Arrest'], bins=bins)\n",
    "labels = ['0-20', '20-29', '30-39', '40-49', '50-59', '60-69', '70-79', '80-89', '90-100']\n",
    "\n",
    "plt.bar(labels, counts)\n",
    "plt.title('Distribution of Ages at Arrest')\n",
    "plt.xlabel('Age Groups')\n",
    "plt.ylabel('Count')\n"
   ]
  },
  {
   "cell_type": "code",
   "execution_count": null,
   "metadata": {},
   "outputs": [],
   "source": [
    "for race in pretrial_df['Race'].unique():\n",
    "    print(race)"
   ]
  },
  {
   "cell_type": "code",
   "execution_count": null,
   "metadata": {},
   "outputs": [],
   "source": [
    "for race in pretrial_df['Race'].unique():\n",
    "    bins = [0, 20, 30, 40, 50, 60, 70, 80, 90, 100]\n",
    "    counts, bin_edges = np.histogram(pretrial_df['Age_at_Arrest'], bins=bins)\n",
    "    plt.bar(labels, counts)\n",
    "    plt.title(f'Distribution of Ages for ' + race)\n",
    "    plt.xlabel('Age Groups')\n",
    "    plt.ylabel('Count')\n",
    "    plt.show()\n",
    "\n"
   ]
  },
  {
   "cell_type": "markdown",
   "metadata": {},
   "source": []
  },
  {
   "cell_type": "code",
   "execution_count": null,
   "metadata": {},
   "outputs": [],
   "source": [
    "pretrial_df['Age_at_Arrest'].isnull().sum()\n"
   ]
  },
  {
   "cell_type": "code",
   "execution_count": null,
   "metadata": {},
   "outputs": [],
   "source": []
  },
  {
   "cell_type": "code",
   "execution_count": 27,
   "metadata": {},
   "outputs": [],
   "source": [
    "for race in pretrial_df['Race']:\n",
    "    pretrial_df['Bail_Set_and_Posted_at_Arraign']"
   ]
  },
  {
   "cell_type": "markdown",
   "metadata": {},
   "source": [
    "### Bail"
   ]
  },
  {
   "cell_type": "markdown",
   "metadata": {},
   "source": [
    "Accepted Bail"
   ]
  },
  {
   "cell_type": "code",
   "execution_count": null,
   "metadata": {},
   "outputs": [],
   "source": [
    "bail_given = pretrial_df[pretrial_df['Bail_Set_and_Posted_at_Arraign'] == 'Y']\n",
    "bail_per_race = bail_given.groupby('Race').size()\n",
    "bail_per_race"
   ]
  },
  {
   "cell_type": "code",
   "execution_count": null,
   "metadata": {},
   "outputs": [],
   "source": [
    "bail_offered = pretrial_df[\n",
    "    (pretrial_df['Bail_Set_and_Posted_at_Arraign'] == 'Y') |\n",
    "    (pretrial_df['Bail_Set_and_Not_Posted_at_Arraign'] == 'Y')\n",
    "]\n",
    "\n",
    "bail_offered_per_race = bail_offered.groupby('Race').size() / pretrial_df.groupby('Race').size()\n",
    "bail_offered_per_race"
   ]
  },
  {
   "cell_type": "code",
   "execution_count": null,
   "metadata": {},
   "outputs": [],
   "source": [
    "bail_requested = pretrial_df[\n",
    "    (pretrial_df['Bail_Set_and_Posted_at_Arraign'] == 'Y') |\n",
    "    (pretrial_df['Bail_Set_and_Not_Posted_at_Arraign'] == 'Y')\n",
    "]\n",
    "\n",
    "total_bail_requests_by_race = bail_requested.groupby('Race').size()\n",
    "accepted_bail_requests_by_race = bail_requested[bail_requested['Bail_Set_and_Posted_at_Arraign'] == 'Y'].groupby('Race').size()\n",
    "bail_acceptance_rate = (accepted_bail_requests_by_race / total_bail_requests_by_race) * 100\n",
    "\n",
    "bail_info_df = pd.DataFrame({\n",
    "    'Total Bail Request': total_bail_requests_by_race,\n",
    "    'Accepted Bail Requests': accepted_bail_requests_by_race,\n",
    "    'Acceptance Rate (%)': bail_acceptance_rate}).reset_index()\n",
    "\n",
    "bail_info_df"
   ]
  },
  {
   "cell_type": "markdown",
   "metadata": {},
   "source": [
    "### **Model Development without Debiasing**"
   ]
  },
  {
   "cell_type": "markdown",
   "metadata": {},
   "source": [
    "### **Bias Mitigation**"
   ]
  },
  {
   "cell_type": "markdown",
   "metadata": {},
   "source": [
    "### **Conclusion & Discussion**"
   ]
  },
  {
   "cell_type": "code",
   "execution_count": null,
   "metadata": {},
   "outputs": [],
   "source": []
  }
 ],
 "metadata": {
  "kernelspec": {
   "display_name": "Python 3",
   "language": "python",
   "name": "python3"
  },
  "language_info": {
   "codemirror_mode": {
    "name": "ipython",
    "version": 3
   },
   "file_extension": ".py",
   "mimetype": "text/x-python",
   "name": "python",
   "nbconvert_exporter": "python",
   "pygments_lexer": "ipython3",
   "version": "3.9.6"
  }
 },
 "nbformat": 4,
 "nbformat_minor": 2
}
